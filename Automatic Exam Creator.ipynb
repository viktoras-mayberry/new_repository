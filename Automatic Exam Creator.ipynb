{
 "cells": [
  {
   "cell_type": "code",
   "execution_count": 1,
   "id": "f9ecb650",
   "metadata": {},
   "outputs": [],
   "source": [
    "import openai\n",
    "import os"
   ]
  },
  {
   "cell_type": "code",
   "execution_count": 2,
   "id": "f52a54b6",
   "metadata": {},
   "outputs": [],
   "source": [
    "openai.api_key = os.getenv('OPENAI_API_KEY')"
   ]
  },
  {
   "cell_type": "code",
   "execution_count": 3,
   "id": "e3b956c9",
   "metadata": {},
   "outputs": [],
   "source": [
    "# Generating the prompt for the program\n",
    "def create_test_prompt(topic,num_questions,num_possible_answers):\n",
    "    prompt = f\"Create a multiple choice quiz on the topic of {topic} consisting of {num_questions} questions. \"\\\n",
    "    + f\"Each question should have {num_possible_answers} options. \"\\\n",
    "    + f\"Also include the correct answer for each question using the starting phrase 'Correct Answer:' \"\n",
    "    return prompt\n"
   ]
  },
  {
   "cell_type": "code",
   "execution_count": 4,
   "id": "4446d676",
   "metadata": {},
   "outputs": [],
   "source": [
    "# getting the response from the OpenAI\n",
    "response = openai.Completion.create(\n",
    "    engine = 'text-davinci-003',\n",
    "    prompt = create_test_prompt('US History', 4, 4),\n",
    "    max_tokens = 256,\n",
    "    temperature = 0.7\n",
    ")"
   ]
  },
  {
   "cell_type": "code",
   "execution_count": 5,
   "id": "5a8d4300",
   "metadata": {},
   "outputs": [
    {
     "name": "stdout",
     "output_type": "stream",
     "text": [
      "\n",
      "\n",
      "Q1. Who was the first president of the United States?\n",
      "A. Thomas Jefferson\n",
      "B. George Washington\n",
      "C. John Adams\n",
      "D. Abraham Lincoln\n",
      "Correct Answer: B. George Washington\n",
      "\n",
      "Q2. What event is considered to be the start of World War I?\n",
      "A. The bombing of Pearl Harbor\n",
      "B. The assassination of Archduke Franz Ferdinand\n",
      "C. The signing of the Treaty of Versailles\n",
      "D. The invasion of Normandy\n",
      "Correct Answer: B. The assassination of Archduke Franz Ferdinand\n",
      "\n",
      "Q3. When did the United States become an independent nation?\n",
      "A. 1776\n",
      "B. 1787\n",
      "C. 1789\n",
      "D. 1798\n",
      "Correct Answer: A. 1776\n",
      "\n",
      "Q4. When was the Emancipation Proclamation issued?\n",
      "A. 1863\n",
      "B. 1865\n",
      "C. 1867\n",
      "D. 1868\n",
      "Correct Answer: A. 1863\n"
     ]
    }
   ],
   "source": [
    "print(response['choices'][0]['text'])"
   ]
  },
  {
   "cell_type": "code",
   "execution_count": 6,
   "id": "62c9dee7",
   "metadata": {},
   "outputs": [],
   "source": [
    "# Since the openai is generating the whole question and answers\n",
    "# We need to create a function for Student View\n",
    "def create_student_view(test, num_questions):\n",
    "    student_view = {1:''}\n",
    "    question_number = 1\n",
    "    for line in test.split(\"\\n\"):\n",
    "        if not line.startswith(\"Correct Answer:\"):\n",
    "            student_view[question_number] += line + '\\n'\n",
    "        else:\n",
    "            if question_number < num_questions:\n",
    "                question_number += 1\n",
    "                student_view[question_number] = ''\n",
    "    return student_view"
   ]
  },
  {
   "cell_type": "code",
   "execution_count": 7,
   "id": "62cab4e3",
   "metadata": {},
   "outputs": [],
   "source": [
    "result = create_student_view(response['choices'][0]['text'],4)"
   ]
  },
  {
   "cell_type": "code",
   "execution_count": 8,
   "id": "dc15b35f",
   "metadata": {},
   "outputs": [
    {
     "name": "stdout",
     "output_type": "stream",
     "text": [
      "\n",
      "\n",
      "Q1. Who was the first president of the United States?\n",
      "A. Thomas Jefferson\n",
      "B. George Washington\n",
      "C. John Adams\n",
      "D. Abraham Lincoln\n",
      "\n",
      "\n",
      "Q2. What event is considered to be the start of World War I?\n",
      "A. The bombing of Pearl Harbor\n",
      "B. The assassination of Archduke Franz Ferdinand\n",
      "C. The signing of the Treaty of Versailles\n",
      "D. The invasion of Normandy\n",
      "\n",
      "\n",
      "Q3. When did the United States become an independent nation?\n",
      "A. 1776\n",
      "B. 1787\n",
      "C. 1789\n",
      "D. 1798\n",
      "\n",
      "\n",
      "Q4. When was the Emancipation Proclamation issued?\n",
      "A. 1863\n",
      "B. 1865\n",
      "C. 1867\n",
      "D. 1868\n",
      "\n"
     ]
    }
   ],
   "source": [
    "for key in result:\n",
    "    print(result[key])"
   ]
  },
  {
   "cell_type": "code",
   "execution_count": 9,
   "id": "d7d3caf1",
   "metadata": {},
   "outputs": [],
   "source": [
    "# Then we will need to extract the answer so that we can make our comparison\n",
    "def extract_answer(test, num_questions):\n",
    "    answers = {1:''}\n",
    "    question_number = 1\n",
    "    for line in test.split(\"\\n\"):\n",
    "        if line.startswith(\"Correct Answer:\"):\n",
    "            answers[question_number] += line + '\\n'\n",
    "        \n",
    "            if question_number < num_questions:\n",
    "                question_number += 1\n",
    "                answers[question_number] = ''\n",
    "    return answers"
   ]
  },
  {
   "cell_type": "code",
   "execution_count": 10,
   "id": "2c8b220c",
   "metadata": {},
   "outputs": [],
   "source": [
    "result2 = extract_answer(response['choices'][0]['text'], 4)"
   ]
  },
  {
   "cell_type": "code",
   "execution_count": 11,
   "id": "7a855cb1",
   "metadata": {},
   "outputs": [
    {
     "name": "stdout",
     "output_type": "stream",
     "text": [
      "Correct Answer: B. George Washington\n",
      "\n",
      "Correct Answer: B. The assassination of Archduke Franz Ferdinand\n",
      "\n",
      "Correct Answer: A. 1776\n",
      "\n",
      "Correct Answer: A. 1863\n",
      "\n"
     ]
    }
   ],
   "source": [
    "for key in result2:\n",
    "    print(result2[key])"
   ]
  },
  {
   "cell_type": "code",
   "execution_count": 12,
   "id": "6c5c29b7",
   "metadata": {},
   "outputs": [],
   "source": [
    "student_view = create_student_view(response['choices'][0]['text'], 4)"
   ]
  },
  {
   "cell_type": "code",
   "execution_count": 13,
   "id": "b476cf69",
   "metadata": {},
   "outputs": [],
   "source": [
    "answers = extract_answer(response['choices'][0]['text'], 4)"
   ]
  },
  {
   "cell_type": "code",
   "execution_count": 14,
   "id": "0a29a7a0",
   "metadata": {},
   "outputs": [],
   "source": [
    "# Take the Exam\n",
    "\n",
    "def take(student_view):\n",
    "    student_answers = {}\n",
    "    for question, question_view in student_view.items():\n",
    "        print(question_view)\n",
    "        answer = input(\"Enter your answer: \")\n",
    "        student_answers[question] = answer\n",
    "    return student_answers"
   ]
  },
  {
   "cell_type": "code",
   "execution_count": 15,
   "id": "afa2d12f",
   "metadata": {},
   "outputs": [],
   "source": [
    "# student_view.items()"
   ]
  },
  {
   "cell_type": "code",
   "execution_count": 16,
   "id": "2a29a4fe",
   "metadata": {},
   "outputs": [
    {
     "name": "stdout",
     "output_type": "stream",
     "text": [
      "\n",
      "\n",
      "Q1. Who was the first president of the United States?\n",
      "A. Thomas Jefferson\n",
      "B. George Washington\n",
      "C. John Adams\n",
      "D. Abraham Lincoln\n",
      "\n",
      "Enter your answer: a\n",
      "\n",
      "Q2. What event is considered to be the start of World War I?\n",
      "A. The bombing of Pearl Harbor\n",
      "B. The assassination of Archduke Franz Ferdinand\n",
      "C. The signing of the Treaty of Versailles\n",
      "D. The invasion of Normandy\n",
      "\n",
      "Enter your answer: s\n",
      "\n",
      "Q3. When did the United States become an independent nation?\n",
      "A. 1776\n",
      "B. 1787\n",
      "C. 1789\n",
      "D. 1798\n",
      "\n",
      "Enter your answer: d\n",
      "\n",
      "Q4. When was the Emancipation Proclamation issued?\n",
      "A. 1863\n",
      "B. 1865\n",
      "C. 1867\n",
      "D. 1868\n",
      "\n",
      "Enter your answer: a\n"
     ]
    }
   ],
   "source": [
    "student_answers = take(student_view)"
   ]
  },
  {
   "cell_type": "code",
   "execution_count": 17,
   "id": "f8ffcdec",
   "metadata": {},
   "outputs": [
    {
     "data": {
      "text/plain": [
       "{1: 'Correct Answer: B. George Washington\\n',\n",
       " 2: 'Correct Answer: B. The assassination of Archduke Franz Ferdinand\\n',\n",
       " 3: 'Correct Answer: A. 1776\\n',\n",
       " 4: 'Correct Answer: A. 1863\\n'}"
      ]
     },
     "execution_count": 17,
     "metadata": {},
     "output_type": "execute_result"
    }
   ],
   "source": [
    "answers"
   ]
  },
  {
   "cell_type": "code",
   "execution_count": 18,
   "id": "d2f5007a",
   "metadata": {},
   "outputs": [],
   "source": [
    "# Comparing the actual result and the student result\n",
    "def grade(correct_answer_dict, student_answers):\n",
    "    correct_answers = 0\n",
    "    for question, answer in student_answers.items():\n",
    "        if answer.upper() == correct_answer_dict[question][16]:\n",
    "            correct_answers += 1\n",
    "    grade = 100*correct_answers / len(answers)\n",
    "    #check the grade of the student\n",
    "    if grade < 60:\n",
    "        passed = \"NO PASS\"\n",
    "    else:\n",
    "        passed = \"PASS!\"\n",
    "        \n",
    "    return f\"{correct_answers}/{len(answers)} correct! You got {grade} grade, {passed}\""
   ]
  },
  {
   "cell_type": "code",
   "execution_count": 19,
   "id": "2849e676",
   "metadata": {},
   "outputs": [
    {
     "data": {
      "text/plain": [
       "'1/4 correct! You got 25.0 grade, NO PASS'"
      ]
     },
     "execution_count": 19,
     "metadata": {},
     "output_type": "execute_result"
    }
   ],
   "source": [
    "grade(answers, student_answers)"
   ]
  },
  {
   "cell_type": "code",
   "execution_count": null,
   "id": "cc5da5af",
   "metadata": {},
   "outputs": [],
   "source": []
  },
  {
   "cell_type": "code",
   "execution_count": null,
   "id": "e1fcfbd7",
   "metadata": {},
   "outputs": [],
   "source": []
  },
  {
   "cell_type": "code",
   "execution_count": null,
   "id": "7bd5ae21",
   "metadata": {},
   "outputs": [],
   "source": []
  },
  {
   "cell_type": "code",
   "execution_count": null,
   "id": "c5b635d2",
   "metadata": {},
   "outputs": [],
   "source": []
  },
  {
   "cell_type": "code",
   "execution_count": null,
   "id": "6a840ecd",
   "metadata": {},
   "outputs": [],
   "source": []
  }
 ],
 "metadata": {
  "kernelspec": {
   "display_name": "Python 3 (ipykernel)",
   "language": "python",
   "name": "python3"
  },
  "language_info": {
   "codemirror_mode": {
    "name": "ipython",
    "version": 3
   },
   "file_extension": ".py",
   "mimetype": "text/x-python",
   "name": "python",
   "nbconvert_exporter": "python",
   "pygments_lexer": "ipython3",
   "version": "3.10.9"
  }
 },
 "nbformat": 4,
 "nbformat_minor": 5
}
